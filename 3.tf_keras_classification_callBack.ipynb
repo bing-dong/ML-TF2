{
 "cells": [
  {
   "cell_type": "code",
   "execution_count": 1,
   "metadata": {},
   "outputs": [
    {
     "name": "stdout",
     "output_type": "stream",
     "text": [
      "2.0.0\n"
     ]
    }
   ],
   "source": [
    "# 回调函数\n",
    "# 是在模型的训练过程中进行调用实现的，作为一个参数传入model.fit()中\n",
    "\n",
    "import matplotlib as mpl\n",
    "import matplotlib.pyplot as plt\n",
    "%matplotlib inline\n",
    "import numpy as np\n",
    "import sklearn\n",
    "import pandas as pd\n",
    "import os\n",
    "import sys\n",
    "import time\n",
    "import tensorflow as tf\n",
    "from tensorflow import keras\n",
    "\n",
    "print(tf.__version__)"
   ]
  },
  {
   "cell_type": "code",
   "execution_count": 2,
   "metadata": {},
   "outputs": [
    {
     "name": "stdout",
     "output_type": "stream",
     "text": [
      "(5000, 28, 28) (5000,)\n",
      "(55000, 28, 28) (55000,)\n",
      "(10000, 28, 28) (10000,)\n"
     ]
    }
   ],
   "source": [
    "# 获取图片数据集\n",
    "fashion_mnist = keras.datasets.fashion_mnist\n",
    "(x_train_all,y_train_all),(x_test,y_test) = fashion_mnist.load_data()\n",
    "# 将训练集拆分为训练集和验证集 共60000张图片，前5000张为验证集，后55000张为训练集\n",
    "x_valid,x_train = x_train_all[:5000],x_train_all[5000:]\n",
    "y_valid,y_train = y_train_all[:5000],y_train_all[5000:]\n",
    "\n",
    "print(x_valid.shape,y_valid.shape)\n",
    "print(x_train.shape,y_train.shape)\n",
    "print(x_test.shape,y_test.shape)"
   ]
  },
  {
   "cell_type": "code",
   "execution_count": 3,
   "metadata": {},
   "outputs": [],
   "source": [
    "# x = (x - u)/std  u:均值  std:标准差\n",
    "from sklearn.preprocessing import StandardScaler\n",
    "\n",
    "scaler = StandardScaler()\n",
    "# 进行转换：  只能对二位矩阵进行处理，所以要将三维矩阵先转为二维，之后再转换回去\n",
    "# 又因为原数据为int型，因要做除法，所以先转为float型\n",
    "x_train_scaled = scaler.fit_transform(x_train.astype(np.float32).reshape(-1,1)).reshape(-1,28,28) \n",
    "\n",
    "# scaler.fit_transform与scaler.transform的区别为前者会记录均值与标准差的值\n",
    "# 当再用scaler.transform的时候就不用计算均值与标准差了\n",
    "x_valid_scaled = scaler.transform(x_valid.astype(np.float32).reshape(-1,1)).reshape(-1,28,28)\n",
    "x_test_scaled = scaler.transform(x_test.astype(np.float32).reshape(-1,1)).reshape(-1,28,28)"
   ]
  },
  {
   "cell_type": "code",
   "execution_count": 4,
   "metadata": {},
   "outputs": [],
   "source": [
    "#构建分类训练模型 \n",
    "\n",
    "# tf.keras.models.Sequential()\n",
    "# 定义一个顺序模型\n",
    "model = keras.models.Sequential()\n",
    "\n",
    "'''  \n",
    "# 将输入矩阵[28,28]经过第一层后展平为[28*28,1]\n",
    "model.add(keras.layers.Flatten(input_shape=[28,28]))\n",
    "# 全连接层Dense,输出为300个节点\n",
    "# relu: y = max(0, x)\n",
    "model.add(keras.layers.Dense(300,activation='relu'))\n",
    "model.add(keras.layers.Dense(100,activation='relu'))\n",
    "# 最后输出10个分类,softmax会将向量变为概率\n",
    "model.add(keras.layers.Dense(10,activation='softmax'))\n",
    "'''\n",
    "\n",
    "# 另一种构建模型的方式，传入一个列表，列表中为各层\n",
    "model = keras.models.Sequential([\n",
    "    keras.layers.Flatten(input_shape=[28, 28]),\n",
    "    keras.layers.Dense(300,activation='relu'),\n",
    "    keras.layers.Dense(100,activation='relu'),\n",
    "    keras.layers.Dense(10,activation='softmax')\n",
    "])\n",
    "\n",
    "# 损失函数loss:用sparse是因为每个y_train是一个值，而不是一个向量，需要将其转换为[10,1]的向量\n",
    "# 若y_train本来就是向量的话，损失函数用categorical_crossentropy\n",
    "model.compile(loss='sparse_categorical_crossentropy', \n",
    "             optimizer = 'adam',\n",
    "             metrics = [\"accuracy\"])    # 指标metrics  关系模型的精确度accuracy"
   ]
  },
  {
   "cell_type": "code",
   "execution_count": 5,
   "metadata": {},
   "outputs": [
    {
     "name": "stdout",
     "output_type": "stream",
     "text": [
      "callbacks\n",
      "Train on 55000 samples, validate on 5000 samples\n",
      "Epoch 1/10\n",
      "55000/55000 [==============================] - 13s 242us/sample - loss: 0.4576 - accuracy: 0.8327 - val_loss: 0.3559 - val_accuracy: 0.8766\n",
      "Epoch 2/10\n",
      "55000/55000 [==============================] - 10s 179us/sample - loss: 0.3533 - accuracy: 0.8704 - val_loss: 0.3289 - val_accuracy: 0.8792\n",
      "Epoch 3/10\n",
      "55000/55000 [==============================] - 15s 281us/sample - loss: 0.3179 - accuracy: 0.8827 - val_loss: 0.3215 - val_accuracy: 0.8810\n",
      "Epoch 4/10\n",
      "55000/55000 [==============================] - 18s 332us/sample - loss: 0.2924 - accuracy: 0.8902 - val_loss: 0.3132 - val_accuracy: 0.8898\n",
      "Epoch 5/10\n",
      "55000/55000 [==============================] - 13s 232us/sample - loss: 0.2731 - accuracy: 0.8978 - val_loss: 0.3179 - val_accuracy: 0.8854\n",
      "Epoch 6/10\n",
      "55000/55000 [==============================] - 17s 310us/sample - loss: 0.2586 - accuracy: 0.9031 - val_loss: 0.3173 - val_accuracy: 0.8874\n",
      "Epoch 7/10\n",
      "55000/55000 [==============================] - 12s 227us/sample - loss: 0.2458 - accuracy: 0.9083 - val_loss: 0.3140 - val_accuracy: 0.8938\n",
      "Epoch 8/10\n",
      "55000/55000 [==============================] - 15s 273us/sample - loss: 0.2326 - accuracy: 0.9131 - val_loss: 0.3200 - val_accuracy: 0.8892\n",
      "Epoch 9/10\n",
      "55000/55000 [==============================] - 14s 262us/sample - loss: 0.2214 - accuracy: 0.9167 - val_loss: 0.3125 - val_accuracy: 0.8902\n"
     ]
    }
   ],
   "source": [
    "# 这里使用三个callback函数，TensorBoard, EarlyStopping, ModelCheckpoint\n",
    "# Tensorboard需要一个文件夹，ModelCheckpoint需要一个文件名\n",
    "# logdir = './callbacks'  此处报错，改用下行\n",
    "logdir = os.path.join(\"callbacks\")\n",
    "if not os.path.exists(logdir):\n",
    "    os.mkdir(logdir)\n",
    "output_model_file = os.path.join(logdir, \"fashion_mnist_model.h5\")\n",
    "\n",
    "callbacks = [\n",
    "    keras.callbacks.TensorBoard(logdir),\n",
    "    keras.callbacks.ModelCheckpoint(output_model_file, save_best_only = True), # save_best_only保存最好的模型，否则保存最近的模型\n",
    "#     如果连续5次迭代的变化值都小于min_delta，则停止训练\n",
    "    keras.callbacks.EarlyStopping(patience=5, min_delta=1e-3)\n",
    "]\n",
    "# 开始训练  返回值为训练过程中的历史数据, 可用于画图分析训练效果\n",
    "history = model.fit(x_train_scaled, y_train, epochs=10, validation_data=(x_valid_scaled, y_valid), callbacks = callbacks)"
   ]
  },
  {
   "cell_type": "code",
   "execution_count": 14,
   "metadata": {},
   "outputs": [
    {
     "data": {
      "image/png": "[encoded data removed]",
      "text/plain": [
       "<Figure size 576x360 with 1 Axes>"
      ]
     },
     "metadata": {
      "needs_background": "light"
     },
     "output_type": "display_data"
    }
   ],
   "source": [
    "def plot_learning_curves(history):\n",
    "    pd.DataFrame(history.history).plot(figsize=(8, 5))\n",
    "    plt.grid(True)\n",
    "# 当前的图表和子图可以使用plt.gcf()和plt.gca()获得，分别表示\"Get Current Figure\"和\"Get Current Axes\"\n",
    "# 设置y坐标的上下限\n",
    "    plt.gca().set_ylim(0, 1)  \n",
    "    plt.show()\n",
    "    \n",
    "plot_learning_curves(history)"
   ]
  }
 ],
 "metadata": {
  "kernelspec": {
   "display_name": "Python 3",
   "language": "python",
   "name": "python3"
  },
  "language_info": {
   "codemirror_mode": {
    "name": "ipython",
    "version": 3
   },
   "file_extension": ".py",
   "mimetype": "text/x-python",
   "name": "python",
   "nbconvert_exporter": "python",
   "pygments_lexer": "ipython3",
   "version": "3.7.3"
  }
 },
 "nbformat": 4,
 "nbformat_minor": 2
}
